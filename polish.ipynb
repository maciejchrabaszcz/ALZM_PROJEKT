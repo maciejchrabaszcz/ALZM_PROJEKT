{
 "cells": [
  {
   "cell_type": "code",
   "execution_count": 8,
   "metadata": {},
   "outputs": [],
   "source": [
    "import numpy as np\n",
    "from tqdm import tqdm\n",
    "from utils import *"
   ]
  },
  {
   "cell_type": "code",
   "execution_count": 32,
   "metadata": {},
   "outputs": [],
   "source": [
    "with open(\"./data/corpus_wikipedia_2020-03-01_all_lines.txt\") as f:\n",
    "    lines = f.readlines()[:100000]\n"
   ]
  },
  {
   "cell_type": "code",
   "execution_count": 33,
   "metadata": {},
   "outputs": [],
   "source": [
    "full_text = \" \".join(lines).lower().replace('!', '.')\n"
   ]
  },
  {
   "cell_type": "code",
   "execution_count": 11,
   "metadata": {},
   "outputs": [
    {
     "data": {
      "text/plain": [
       "11802247"
      ]
     },
     "execution_count": 11,
     "metadata": {},
     "output_type": "execute_result"
    }
   ],
   "source": [
    "len(full_text)\n"
   ]
  },
  {
   "cell_type": "code",
   "execution_count": 45,
   "metadata": {},
   "outputs": [],
   "source": [
    "known_chars = \"aąbcćdeęfghijklłmnńoóprsśtuvwxyzżź0123456789 ,.\"\n"
   ]
  },
  {
   "cell_type": "code",
   "execution_count": 46,
   "metadata": {},
   "outputs": [],
   "source": [
    "full_text = remove_unknown_symbols(known_chars, full_text)"
   ]
  },
  {
   "cell_type": "code",
   "execution_count": 47,
   "metadata": {},
   "outputs": [],
   "source": [
    "text_to_decode = (\n",
    "    \"na fundamentach starego urzędu gminy, rozpoczęto budowę nowego obiektu, mającego w przyszłości spełniać rolę gminnego ośrodka kultury gok.\"\n",
    "    \" uroczyście otwarty w dniu 23 maja 1989 r. gminny ośrodek kultury, zwany z racji widniejącego na frontonie rzeźby mitycznego pegaza,\"\n",
    "    \" pod pegazem, okazał się wyśmienitym obiektem do pełnienia roli do jakiej został powołany.\"\n",
    ").lower()"
   ]
  },
  {
   "cell_type": "code",
   "execution_count": 52,
   "metadata": {},
   "outputs": [],
   "source": [
    "text_lengths = [10**i for i in range(4,8)]"
   ]
  },
  {
   "cell_type": "code",
   "execution_count": 53,
   "metadata": {},
   "outputs": [
    {
     "data": {
      "text/plain": [
       "[10000, 100000, 1000000, 10000000]"
      ]
     },
     "execution_count": 53,
     "metadata": {},
     "output_type": "execute_result"
    }
   ],
   "source": [
    "text_lengths"
   ]
  },
  {
   "cell_type": "code",
   "execution_count": 57,
   "metadata": {},
   "outputs": [
    {
     "name": "stderr",
     "output_type": "stream",
     "text": [
      "100%|██████████| 9999/9999 [00:00<00:00, 1936771.30it/s]\n",
      "100%|██████████| 5/5 [01:13<00:00, 14.78s/it]\n",
      "100%|██████████| 99999/99999 [00:00<00:00, 1735439.42it/s]\n",
      "100%|██████████| 5/5 [01:10<00:00, 14.11s/it]\n",
      "100%|██████████| 999999/999999 [00:00<00:00, 2103677.61it/s]\n",
      "100%|██████████| 5/5 [01:08<00:00, 13.79s/it]\n",
      "100%|██████████| 9999999/9999999 [00:04<00:00, 2139443.45it/s]\n",
      "100%|██████████| 5/5 [01:09<00:00, 13.96s/it]\n"
     ]
    }
   ],
   "source": [
    "hamming_losses_arrays = []\n",
    "final_texts = []\n",
    "iters = int(1e+5)\n",
    "for text_length in text_lengths:\n",
    "    count_dict = create_count_dict(full_text[:text_length], known_chars)\n",
    "    perc_dict = create_perc_dict(count_dict, known_chars)\n",
    "\n",
    "    crypt_keys = create_rand_crypt(known_chars)\n",
    "    crypt_dict = str_to_key(known_chars, crypt_keys)\n",
    "    crypt_text = apply_dict(text_to_decode, crypt_dict)\n",
    "    \n",
    "\n",
    "    num_repeats = 5\n",
    "    _final_texts = []\n",
    "    hamming_losses_array = []\n",
    "    for _ in tqdm(range(num_repeats)):\n",
    "        current_dict, best_score, best_text, hamming_losses = decrypt_MCMC(crypt_text, perc_dict, iters, crypt_keys, known_chars, verbose = False, real_text=text_to_decode)\n",
    "        hamming_losses_array.append(hamming_losses)\n",
    "        _final_texts.append(best_text[-1])\n",
    "    hamming_losses_array = np.array(hamming_losses_array)\n",
    "    final_texts.append(_final_texts)\n",
    "    hamming_losses_arrays.append(hamming_losses_array)\n",
    "    "
   ]
  },
  {
   "cell_type": "code",
   "execution_count": 60,
   "metadata": {},
   "outputs": [
    {
     "name": "stdout",
     "output_type": "stream",
     "text": [
      "0.9955555555555555\n",
      "0.6872222222222223\n",
      "0.5588888888888889\n",
      "0.48666666666666664\n"
     ]
    }
   ],
   "source": [
    "for hamming_losses_array in hamming_losses_arrays:\n",
    "    print(np.mean(hamming_losses_array[:,-1]))"
   ]
  },
  {
   "cell_type": "code",
   "execution_count": 63,
   "metadata": {},
   "outputs": [
    {
     "data": {
      "text/plain": [
       "[<matplotlib.lines.Line2D at 0x7f09d455fdf0>]"
      ]
     },
     "execution_count": 63,
     "metadata": {},
     "output_type": "execute_result"
    },
    {
     "data": {
      "image/png": "[encoded data removed]",
      "text/plain": [
       "<Figure size 432x288 with 1 Axes>"
      ]
     },
     "metadata": {},
     "output_type": "display_data"
    }
   ],
   "source": [
    "plt.plot([np.mean(hamming_losses_array[:,-1]) for hamming_losses_array in hamming_losses_arrays])"
   ]
  },
  {
   "cell_type": "code",
   "execution_count": 62,
   "metadata": {},
   "outputs": [],
   "source": [
    "import matplotlib.pyplot as plt"
   ]
  },
  {
   "cell_type": "code",
   "execution_count": null,
   "metadata": {},
   "outputs": [],
   "source": [
    "xticks = [500*i for i in range(len(hamming_losses))]\n",
    "plt.plot(xticks, np.mean(hamming_losses_array, axis=0))\n",
    "plt.plot(xticks, np.mean(hamming_losses_array, axis=0)+2*np.sqrt(np.var(hamming_losses_array,axis=0)), c='red')\n",
    "plt.plot(xticks, np.mean(hamming_losses_array, axis=0)-2*np.sqrt(np.var(hamming_losses_array,axis=0)), c='red')\n",
    "plt.title('Odległość edycyjna vs iteracja')\n",
    "plt.legend((\"średnia\", \"+2sd\", \"-2sd\"))\n",
    "plt.show()"
   ]
  },
  {
   "cell_type": "code",
   "execution_count": null,
   "metadata": {},
   "outputs": [],
   "source": [
    "np.mean(hamming_losses_array[:,-1]<0.1)"
   ]
  },
  {
   "cell_type": "code",
   "execution_count": null,
   "metadata": {},
   "outputs": [],
   "source": [
    "hamming_losses_array[:,-1]"
   ]
  },
  {
   "cell_type": "code",
   "execution_count": null,
   "metadata": {},
   "outputs": [],
   "source": [
    "best_text[-1]"
   ]
  },
  {
   "cell_type": "code",
   "execution_count": null,
   "metadata": {},
   "outputs": [],
   "source": []
  }
 ],
 "metadata": {
  "interpreter": {
   "hash": "a462ec84b96acfdac3f980928d64b8d205b688216bfd6f24341e2d62d6160d1b"
  },
  "kernelspec": {
   "display_name": "Python 3.9.12 ('sages_ds')",
   "language": "python",
   "name": "python3"
  },
  "language_info": {
   "codemirror_mode": {
    "name": "ipython",
    "version": 3
   },
   "file_extension": ".py",
   "mimetype": "text/x-python",
   "name": "python",
   "nbconvert_exporter": "python",
   "pygments_lexer": "ipython3",
   "version": "3.9.12"
  },
  "orig_nbformat": 4
 },
 "nbformat": 4,
 "nbformat_minor": 2
}
